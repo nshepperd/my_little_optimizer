{
 "cells": [
  {
   "cell_type": "code",
   "execution_count": 2,
   "metadata": {},
   "outputs": [
    {
     "name": "stderr",
     "output_type": "stream",
     "text": [
      "/home/em/Dev/neural/my_little_optimizer/.venv/lib/python3.12/site-packages/tqdm/auto.py:21: TqdmWarning: IProgress not found. Please update jupyter and ipywidgets. See https://ipywidgets.readthedocs.io/en/stable/user_install.html\n",
      "  from .autonotebook import tqdm as notebook_tqdm\n"
     ]
    }
   ],
   "source": [
    "import sys, os\n",
    "os.environ['JAX_PLATFORMS'] = 'cpu'\n",
    "\n",
    "import jax\n",
    "from typing import Dict\n",
    "import jax.numpy as jnp\n",
    "import optax\n",
    "import numpy as np\n",
    "import math\n",
    "from matplotlib import pyplot as plt\n",
    "from jax_tqdm import scan_tqdm\n",
    "from functools import partial\n",
    "from jax.tree_util import tree_map\n",
    "from dataclasses import dataclass\n",
    "import eindex.array_api as EX\n",
    "import einops\n",
    "\n",
    "from jaxtorch import nn\n",
    "from jaxtorch import PRNG, Context\n",
    "import jaxtorch\n",
    "\n",
    "from my_little_optimizer.client import SpaceItem, OptimClient\n",
    "from my_little_optimizer.util import Partial\n",
    "\n",
    "import optuna"
   ]
  },
  {
   "cell_type": "code",
   "execution_count": 3,
   "metadata": {},
   "outputs": [
    {
     "name": "stderr",
     "output_type": "stream",
     "text": [
      "/tmp/ipykernel_717507/2264734566.py:7: ExperimentalWarning: GPSampler is experimental (supported from v3.6.0). The interface can change in the future.\n",
      "  sampler=optuna.samplers.GPSampler(),\n",
      "[I 2025-02-25 15:07:47,877] Using an existing study with name '21-wooden-sweep' instead of creating a new one.\n"
     ]
    }
   ],
   "source": [
    "SWEEP_NAME='21-wooden-sweep'\n",
    "study = optuna.create_study(\n",
    "    study_name=SWEEP_NAME,\n",
    "    load_if_exists=True,\n",
    "    storage=\"sqlite:///../vqgan-jax/optuna.db\",\n",
    "    direction=\"minimize\",\n",
    "    sampler=optuna.samplers.GPSampler(),\n",
    ")\n",
    "\n",
    "pars = list(study.trials[0].params.keys())\n",
    "dists = study.trials[0].distributions\n",
    "trials = [trial for trial in study.trials if trial.state==1]\n",
    "all_y = jnp.array([trial.value for trial in trials])\n",
    "max_y = jnp.max(all_y[jnp.isfinite(all_y)])\n",
    "# import json\n",
    "# with open('../vqgan-jax/trials.json', 'r') as fp:\n",
    "#     trials = json.load(fp)\n",
    "#     all_y = jnp.array([trial[1] for trial in trials])\n",
    "#     max_y = jnp.max(all_y[jnp.isfinite(all_y)])\n",
    "\n",
    "# @dataclass\n",
    "# class Trial:\n",
    "#     params: Dict[str, float]\n",
    "#     value: float\n",
    "\n",
    "# trials = [Trial(params, value) for params, value in trials]\n",
    "# pars = list(trials[0].params.keys())"
   ]
  },
  {
   "cell_type": "code",
   "execution_count": 8,
   "metadata": {},
   "outputs": [
    {
     "name": "stdout",
     "output_type": "stream",
     "text": [
      "id: 47a3ae4d-3f8e-498a-b069-0ee7fca33df7\n"
     ]
    }
   ],
   "source": [
    "import time\n",
    "client = OptimClient('http://localhost:8000')\n",
    "space = [\n",
    "    SpaceItem(name, dist.low, dist.high, log=dist.log)\n",
    "    for name, dist in (study.best_trial.distributions.items())\n",
    "    if isinstance(dist, optuna.distributions.FloatDistribution)\n",
    "]\n",
    "sweep = client.new_sweep('vqgan-demo', space, objective='min', project_name='test2')\n",
    "print('id:', sweep.id)\n",
    "for trial in trials:\n",
    "    a = sweep.start(trial.params)\n",
    "    time.sleep(1.0)\n",
    "    a.report(trial.value if jnp.isfinite(trial.value) else float(max_y))\n"
   ]
  },
  {
   "cell_type": "code",
   "execution_count": null,
   "metadata": {},
   "outputs": [],
   "source": []
  }
 ],
 "metadata": {
  "kernelspec": {
   "display_name": ".venv",
   "language": "python",
   "name": "python3"
  },
  "language_info": {
   "codemirror_mode": {
    "name": "ipython",
    "version": 3
   },
   "file_extension": ".py",
   "mimetype": "text/x-python",
   "name": "python",
   "nbconvert_exporter": "python",
   "pygments_lexer": "ipython3",
   "version": "3.12.8"
  }
 },
 "nbformat": 4,
 "nbformat_minor": 2
}

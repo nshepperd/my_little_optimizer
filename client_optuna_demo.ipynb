{
 "cells": [
  {
   "cell_type": "code",
   "execution_count": null,
   "metadata": {},
   "outputs": [],
   "source": [
    "import sys, os\n",
    "os.environ['JAX_PLATFORMS'] = 'cpu'\n",
    "\n",
    "import jax\n",
    "from typing import Dict\n",
    "import jax.numpy as jnp\n",
    "import optax\n",
    "import numpy as np\n",
    "import math\n",
    "from matplotlib import pyplot as plt\n",
    "from jax_tqdm import scan_tqdm\n",
    "from functools import partial\n",
    "from jax.tree_util import tree_map\n",
    "from dataclasses import dataclass\n",
    "import eindex.array_api as EX\n",
    "import einops\n",
    "\n",
    "from jaxtorch import nn\n",
    "from jaxtorch import PRNG, Context\n",
    "import jaxtorch\n",
    "\n",
    "from my_little_optimizer.client import SpaceItem, OptimClient\n",
    "from my_little_optimizer.util import Partial\n",
    "\n",
    "import optuna"
   ]
  },
  {
   "cell_type": "code",
   "execution_count": null,
   "metadata": {},
   "outputs": [
    {
     "name": "stderr",
     "output_type": "stream",
     "text": [
      "/tmp/ipykernel_4088078/4166868394.py:7: ExperimentalWarning: GPSampler is experimental (supported from v3.6.0). The interface can change in the future.\n",
      "  sampler=optuna.samplers.GPSampler(),\n",
      "[I 2025-02-25 04:11:41,022] Using an existing study with name '21-wooden-sweep' instead of creating a new one.\n"
     ]
    },
    {
     "name": "stdout",
     "output_type": "stream",
     "text": [
      "{'max_lr': FloatDistribution(high=1.0, log=True, low=0.01, step=None), 'wpe': FloatDistribution(high=10.0, log=True, low=0.1, step=None), 'wae': FloatDistribution(high=10.0, log=True, low=0.1, step=None), '.attn.q_proj': FloatDistribution(high=10.0, log=True, low=0.1, step=None), '.attn.k_proj': FloatDistribution(high=10.0, log=True, low=0.1, step=None), '.attn.v_proj': FloatDistribution(high=10.0, log=True, low=0.1, step=None), '.attn.c_proj': FloatDistribution(high=10.0, log=True, low=0.1, step=None), '.cross_attn.q_proj': FloatDistribution(high=10.0, log=True, low=0.1, step=None), '.cross_attn.o_proj': FloatDistribution(high=10.0, log=True, low=0.1, step=None), '.cross_attn.k_clip': FloatDistribution(high=10.0, log=True, low=0.1, step=None), '.cross_attn.v_clip': FloatDistribution(high=10.0, log=True, low=0.1, step=None), '.cross_attn.k_tags': FloatDistribution(high=10.0, log=True, low=0.1, step=None), '.cross_attn.v_tags': FloatDistribution(high=10.0, log=True, low=0.1, step=None), '.ffn.up_proj': FloatDistribution(high=10.0, log=True, low=0.1, step=None), '.ffn.up_gate': FloatDistribution(high=10.0, log=True, low=0.1, step=None), '.ffn.down_proj': FloatDistribution(high=10.0, log=True, low=0.1, step=None), 'lm_head': FloatDistribution(high=10.0, log=True, low=0.1, step=None)}\n"
     ]
    }
   ],
   "source": [
    "SWEEP_NAME='21-wooden-sweep'\n",
    "study = optuna.create_study(\n",
    "    study_name=SWEEP_NAME,\n",
    "    load_if_exists=True,\n",
    "    storage=\"sqlite:///../vqgan-jax/optuna.db\",\n",
    "    direction=\"minimize\",\n",
    "    sampler=optuna.samplers.GPSampler(),\n",
    ")\n",
    "\n",
    "pars = list(study.trials[0].params.keys())\n",
    "dists = study.trials[0].distributions\n",
    "trials = [trial for trial in study.trials if trial.state==1]\n",
    "all_y = jnp.array([trial.value for trial in trials])\n",
    "max_y = jnp.max(all_y[jnp.isfinite(all_y)])\n",
    "# import json\n",
    "# with open('../vqgan-jax/trials.json', 'r') as fp:\n",
    "#     trials = json.load(fp)\n",
    "#     all_y = jnp.array([trial[1] for trial in trials])\n",
    "#     max_y = jnp.max(all_y[jnp.isfinite(all_y)])\n",
    "\n",
    "# @dataclass\n",
    "# class Trial:\n",
    "#     params: Dict[str, float]\n",
    "#     value: float\n",
    "\n",
    "# trials = [Trial(params, value) for params, value in trials]\n",
    "# pars = list(trials[0].params.keys())"
   ]
  },
  {
   "cell_type": "code",
   "execution_count": 13,
   "metadata": {},
   "outputs": [
    {
     "name": "stdout",
     "output_type": "stream",
     "text": [
      "id: 078658a9-45d1-4662-b6f3-20fb1df442cc\n"
     ]
    }
   ],
   "source": [
    "client = OptimClient('http://localhost:8000')\n",
    "space = [\n",
    "    SpaceItem(name, dist.low, dist.high, log=dist.log)\n",
    "    for name, dist in (study.best_trial.distributions.items())\n",
    "    if isinstance(dist, optuna.distributions.FloatDistribution)\n",
    "]\n",
    "sweep = client.new_sweep('vqgan-demo', space, objective='min')\n",
    "print('id:', sweep.id)\n",
    "for trial in trials:\n",
    "    sweep.start(trial.params).report(trial.value if jnp.isfinite(trial.value) else float(max_y))\n"
   ]
  },
  {
   "cell_type": "code",
   "execution_count": null,
   "metadata": {},
   "outputs": [],
   "source": []
  }
 ],
 "metadata": {
  "kernelspec": {
   "display_name": ".venv",
   "language": "python",
   "name": "python3"
  },
  "language_info": {
   "codemirror_mode": {
    "name": "ipython",
    "version": 3
   },
   "file_extension": ".py",
   "mimetype": "text/x-python",
   "name": "python",
   "nbconvert_exporter": "python",
   "pygments_lexer": "ipython3",
   "version": "3.12.8"
  }
 },
 "nbformat": 4,
 "nbformat_minor": 2
}
